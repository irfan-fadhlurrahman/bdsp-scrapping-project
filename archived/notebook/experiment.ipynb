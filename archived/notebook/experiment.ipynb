{
 "cells": [
  {
   "attachments": {},
   "cell_type": "markdown",
   "metadata": {},
   "source": [
    "## BDSP Scraper"
   ]
  },
  {
   "attachments": {},
   "cell_type": "markdown",
   "metadata": {},
   "source": [
    "The main tasks of this project as follows:\n",
    "1. Extract all indicator values such as _Subsektor_, _Komoditas_, _Level_, _Provinsi_, _Kabupaten_, _Tahun Awal_, and _Tahun Akhir_ from [BDSP dynamic website](https://bdsp2.pertanian.go.id/bdsp/id/indikator) using Selenium.\n",
    "2. Extract a table based on specific indicators using Selenium and transform it into tabular format."
   ]
  },
  {
   "attachments": {},
   "cell_type": "markdown",
   "metadata": {},
   "source": [
    "## PyMongo"
   ]
  },
  {
   "attachments": {},
   "cell_type": "markdown",
   "metadata": {},
   "source": [
    "### Example"
   ]
  },
  {
   "cell_type": "code",
   "execution_count": 1,
   "metadata": {},
   "outputs": [
    {
     "data": {
      "text/plain": [
       "'db: '"
      ]
     },
     "metadata": {},
     "output_type": "display_data"
    },
    {
     "data": {
      "text/plain": [
       "Database(MongoClient(host=['localhost:27017'], document_class=dict, tz_aware=False, connect=True), 'test-database')"
      ]
     },
     "metadata": {},
     "output_type": "display_data"
    },
    {
     "data": {
      "text/plain": [
       "'collection: '"
      ]
     },
     "metadata": {},
     "output_type": "display_data"
    },
    {
     "data": {
      "text/plain": [
       "Collection(Database(MongoClient(host=['localhost:27017'], document_class=dict, tz_aware=False, connect=True), 'test-database'), 'test-collection')"
      ]
     },
     "metadata": {},
     "output_type": "display_data"
    },
    {
     "data": {
      "text/plain": [
       "ObjectId('647ac137a8247e15384a881d')"
      ]
     },
     "metadata": {},
     "output_type": "display_data"
    }
   ],
   "source": [
    "import datetime\n",
    "\n",
    "import pymongo\n",
    "from pymongo import MongoClient\n",
    "\n",
    "client = MongoClient(\n",
    "    \"mongodb://localhost:27017\",\n",
    "    username=\"root\",\n",
    "    password=\"rootpassword\"\n",
    ")\n",
    "\n",
    "db = client[\"test-database\"]\n",
    "display(\"db: \", db)\n",
    "\n",
    "collection = db[\"test-collection\"]\n",
    "display(\"collection: \", collection)\n",
    "\n",
    "post = {\n",
    "    \"author\": \"Mike\",\n",
    "    \"text\": \"My first blog post!\",\n",
    "    \"tags\": [\"mongodb\", \"python\", \"pymongo\"],\n",
    "    \"date\": datetime.datetime.utcnow()\n",
    "}\n",
    "posts = db.posts\n",
    "post_id = posts.insert_one(post).inserted_id\n",
    "display(post_id)"
   ]
  },
  {
   "cell_type": "code",
   "execution_count": 2,
   "metadata": {},
   "outputs": [
    {
     "data": {
      "text/plain": [
       "['posts']"
      ]
     },
     "execution_count": 2,
     "metadata": {},
     "output_type": "execute_result"
    }
   ],
   "source": [
    "db.list_collection_names()"
   ]
  },
  {
   "cell_type": "code",
   "execution_count": 3,
   "metadata": {},
   "outputs": [
    {
     "name": "stdout",
     "output_type": "stream",
     "text": [
      "{'_id': ObjectId('647abc85a282918c2b9d5d26'),\n",
      " 'author': 'Mike',\n",
      " 'date': datetime.datetime(2023, 6, 3, 4, 7, 33, 367000),\n",
      " 'tags': ['mongodb', 'python', 'pymongo'],\n",
      " 'text': 'My first blog post!'}\n"
     ]
    }
   ],
   "source": [
    "import pprint\n",
    "\n",
    "pprint.pprint(posts.find_one())"
   ]
  },
  {
   "cell_type": "code",
   "execution_count": 6,
   "metadata": {},
   "outputs": [
    {
     "name": "stdout",
     "output_type": "stream",
     "text": [
      "{'_id': ObjectId('647abc85a282918c2b9d5d26'),\n",
      " 'author': 'Mike',\n",
      " 'date': datetime.datetime(2023, 6, 3, 4, 7, 33, 367000),\n",
      " 'tags': ['mongodb', 'python', 'pymongo'],\n",
      " 'text': 'My first blog post!'}\n"
     ]
    }
   ],
   "source": [
    "pprint.pprint(posts.find_one({'tags': 'python'}))"
   ]
  },
  {
   "cell_type": "code",
   "execution_count": 22,
   "metadata": {},
   "outputs": [],
   "source": [
    "posts.find_one({\"author\": \"Eliot\"})"
   ]
  },
  {
   "cell_type": "code",
   "execution_count": 26,
   "metadata": {},
   "outputs": [],
   "source": [
    "db = client[\"bdsp\"]\n",
    "collection = db[\"indicator\"]"
   ]
  },
  {
   "cell_type": "code",
   "execution_count": 27,
   "metadata": {},
   "outputs": [
    {
     "data": {
      "text/plain": [
       "[]"
      ]
     },
     "execution_count": 27,
     "metadata": {},
     "output_type": "execute_result"
    }
   ],
   "source": [
    "db.list_collection_names()"
   ]
  },
  {
   "attachments": {},
   "cell_type": "markdown",
   "metadata": {},
   "source": [
    "### Indicator"
   ]
  },
  {
   "cell_type": "code",
   "execution_count": 66,
   "metadata": {},
   "outputs": [
    {
     "data": {
      "text/plain": [
       "{'subsektor': 0,\n",
       " 'komoditas': 0,\n",
       " 'level': 2,\n",
       " 'prov': 0,\n",
       " 'kab': 0,\n",
       " 'tahunAwal': 0,\n",
       " 'tahunAkhir': 53}"
      ]
     },
     "metadata": {},
     "output_type": "display_data"
    },
    {
     "data": {
      "text/plain": [
       "{'subsektor': 3,\n",
       " 'komoditas': 1,\n",
       " 'level': 1,\n",
       " 'prov': 0,\n",
       " 'tahunAwal': 0,\n",
       " 'tahunAkhir': 10}"
      ]
     },
     "metadata": {},
     "output_type": "display_data"
    },
    {
     "data": {
      "text/plain": [
       "{'subsektor': 2,\n",
       " 'komoditas': 28,\n",
       " 'level': 0,\n",
       " 'tahunAwal': 32,\n",
       " 'tahunAkhir': 53}"
      ]
     },
     "metadata": {},
     "output_type": "display_data"
    }
   ],
   "source": [
    "import random\n",
    "import time\n",
    "import os\n",
    "import dill\n",
    "\n",
    "from typing import Dict\n",
    "\n",
    "class BinaryFileHandler:\n",
    "    def __init__(self, folder_path: str):\n",
    "        self.root_path = os.path.expanduser(\"~\")\n",
    "        self.folder_path = folder_path\n",
    "        self.create_folder_if_not_exist()\n",
    "\n",
    "    def create_folder_if_not_exist(self) -> None:\n",
    "        abs_path = f\"{self.root_path}/{self.folder_path}\"\n",
    "        if not os.path.exists(abs_path):\n",
    "            os.system(f\"mkdir -p {abs_path}\")\n",
    "\n",
    "        self.abs_path = abs_path\n",
    "\n",
    "    def save(self, dict_to_save: Dict, filename: str) -> None:\n",
    "        with open(f\"{self.abs_path}/{filename}\", \"wb\") as f:\n",
    "            dill.dump(dict_to_save, f)\n",
    "\n",
    "    def load(self, filename: str):\n",
    "        with open(f\"{self.abs_path}/{filename}\", \"rb\") as f:\n",
    "            return dill.load(f)\n",
    "\n",
    "import dill\n",
    "import pprint\n",
    "\n",
    "import pymongo\n",
    "from pymongo import MongoClient\n",
    "\n",
    "# From HTML elements scrapping\n",
    "file_handler = BinaryFileHandler(\"data/binary\")\n",
    "indicator_dict = file_handler.load(\"indicator_input_values.bin\")\n",
    "indicator_dict\n",
    "\n",
    "# Initialize the Client\n",
    "client = MongoClient(\n",
    "    \"mongodb://localhost:27017\",\n",
    "    username=\"root\",\n",
    "    password=\"rootpassword\"\n",
    ")\n",
    "\n",
    "# Create new database\n",
    "db = client[\"bdsp\"]\n",
    "\n",
    "# TEMP: drop all database\n",
    "try:\n",
    "    for name in db.list_collection_names():\n",
    "        db[name].drop()\n",
    "except:\n",
    "    pass\n",
    "\n",
    "# Ingest subsektor\n",
    "subsector_collection = db[\"subsektor\"]\n",
    "for idx, subsector in enumerate(indicator_dict[\"subsektor\"]):\n",
    "    document_subsector = {\n",
    "        \"subsektor_idx\": idx,\n",
    "        \"subsektor_name\": subsector        \n",
    "    }\n",
    "    if not subsector_collection.find_one(document_subsector):\n",
    "        subsector_collection.insert_one(document_subsector).inserted_id\n",
    "\n",
    "# Ingest komoditas  \n",
    "commodity_collection = db[\"komoditas\"]\n",
    "for subsector, commodity_list in indicator_dict[\"commodities\"].items():\n",
    "    for idx, commodity in enumerate(commodity_list):\n",
    "        document_commodities = {\n",
    "            \"subsektor_name\": subsector,\n",
    "            \"komoditas_idx\": idx,\n",
    "            \"komoditas_name\": commodity    \n",
    "        }\n",
    "        if not commodity_collection.find_one(document_commodities):\n",
    "            commodity_collection.insert_one(document_commodities).inserted_id\n",
    "\n",
    "# Ingest level\n",
    "level_collection = db[\"level\"]\n",
    "for idx, level in enumerate(indicator_dict[\"level\"]):\n",
    "    document = {\n",
    "        \"level_idx\": idx,\n",
    "        \"level_name\": level\n",
    "    }\n",
    "    if not level_collection.find_one(document):\n",
    "        level_collection.insert_one(document).inserted_id\n",
    "\n",
    "# Ingest provinsi\n",
    "prov_collection = db[\"prov\"]\n",
    "for idx, prov in enumerate(indicator_dict[\"prov\"]):\n",
    "    document = {\n",
    "        \"level_name\": \"Provinsi\",\n",
    "        \"prov_idx\": idx,\n",
    "        \"prov_name\": prov\n",
    "    }\n",
    "    if not prov_collection.find_one(document):\n",
    "        prov_collection.insert_one(document).inserted_id\n",
    "\n",
    "# Ingest kabupaten \n",
    "regency_collection = db[\"kab\"]\n",
    "for province, regency_list in indicator_dict[\"regency\"].items():\n",
    "    for idx, regency in enumerate(regency_list):\n",
    "        document_regency = {\n",
    "            \"level_name\": \"Kabupaten\",\n",
    "            \"prov_name\": province,\n",
    "            \"kab_idx\": idx,\n",
    "            \"kab_name\": regency    \n",
    "        }\n",
    "        if not regency_collection.find_one(document_regency):\n",
    "            regency_collection.insert_one(document_regency).inserted_id\n",
    "        \n",
    "# Ingest tahunAwal\n",
    "tahunAwal_collection = db[\"tahunAwal\"]\n",
    "for idx, year in enumerate(indicator_dict[\"tahunAwal\"]):\n",
    "    document = {\n",
    "        \"tahunAwal_idx\": idx,\n",
    "        \"tahunAwal_name\": int(year)\n",
    "    }\n",
    "    if not tahunAwal_collection.find_one(document):\n",
    "        tahunAwal_collection.insert_one(document).inserted_id\n",
    "\n",
    "# Ingest tahunAkhir\n",
    "tahunAkhir_collection = db[\"tahunAkhir\"]\n",
    "for idx, year in enumerate(indicator_dict[\"tahunAkhir\"]):\n",
    "    document = {\n",
    "        \"tahunAkhir_idx\": idx,\n",
    "        \"tahunAkhir_name\": int(year)\n",
    "    }\n",
    "    if not tahunAkhir_collection.find_one(document):\n",
    "        tahunAkhir_collection.insert_one(document).inserted_id\n",
    "\n",
    "# Input validation\n",
    "def validate(input_dict: Dict, indicator: str) -> Dict:\n",
    "    searched = db[indicator].find_one(\n",
    "        {f\"{indicator}_name\": input_dict[indicator]}\n",
    "    )\n",
    "    if not searched:\n",
    "        # print(f\"{indicator} Not found\")\n",
    "        return None\n",
    "    \n",
    "    idx = searched[f\"{indicator}_idx\"]\n",
    "    return {indicator: idx}\n",
    "\n",
    "def validate_all(input_dict: Dict) -> Dict:\n",
    "    input_idx = {}\n",
    "    for indicator in input_dict.keys():\n",
    "        idx_dict = validate(input_dict, indicator)\n",
    "        if isinstance(idx_dict, dict):\n",
    "            input_idx.update(idx_dict)  \n",
    "            \n",
    "    return input_idx\n",
    "\n",
    "# Input for a table scrapping\n",
    "input_dict = {\n",
    "    \"subsektor\": \"Tanaman Pangan\",\n",
    "    \"komoditas\": \"JAGUNG\",\n",
    "    \"level\": \"Kabupaten\",\n",
    "    \"prov\": \"Aceh\",\n",
    "    \"kab\": \"Kab. Simeulue\",\n",
    "    \"tahunAwal\": 1970,\n",
    "    \"tahunAkhir\": 2023,\n",
    "}\n",
    "display(validate_all(input_dict))\n",
    "\n",
    "\n",
    "input_dict = {\n",
    "    \"subsektor\": \"Hortikultura\",\n",
    "    \"komoditas\": \"AGLAOENEMA\",\n",
    "    \"level\": \"Provinsi\",\n",
    "    \"prov\": \"Aceh\",\n",
    "    \"kab\": \"\",\n",
    "    \"tahunAwal\": 1970,\n",
    "    \"tahunAkhir\": 1980,\n",
    "}\n",
    "display(validate_all(input_dict))\n",
    "\n",
    "\n",
    "input_dict =  {\n",
    "    \"subsektor\": \"Peternakan\",\n",
    "    \"komoditas\": \"SAPI POTONG\",\n",
    "    \"level\": \"Nasional\",\n",
    "    \"prov\": \"\",\n",
    "    \"kab\": \"\",\n",
    "    \"tahunAwal\": 2002,\n",
    "    \"tahunAkhir\": 2023,\n",
    "}\n",
    "display(validate_all(input_dict))"
   ]
  },
  {
   "attachments": {},
   "cell_type": "markdown",
   "metadata": {},
   "source": [
    "### Dependencies"
   ]
  },
  {
   "cell_type": "code",
   "execution_count": 1,
   "metadata": {},
   "outputs": [],
   "source": [
    "import os\n",
    "import time\n",
    "\n",
    "import pandas as pd\n",
    "\n",
    "from selenium import webdriver\n",
    "from selenium.webdriver.chrome.service import Service\n",
    "from selenium.webdriver.common.by import By\n",
    "from selenium.webdriver.support.ui import WebDriverWait\n",
    "from selenium.webdriver.support import expected_conditions as EC\n",
    "\n",
    "HOME_PATH = os.path.expanduser('~')\n",
    "CHROMEDRIVER_PATH = f\"{HOME_PATH}/web-scraping/chromedriver\"\n",
    "\n",
    "URL = 'https://bdsp2.pertanian.go.id/bdsp/id/indikator'"
   ]
  },
  {
   "cell_type": "code",
   "execution_count": 2,
   "metadata": {},
   "outputs": [],
   "source": [
    "def get_all_indicator_values(driver, indicator_id):\n",
    "    indicator_list = []\n",
    "    select_elements = driver.find_elements(By.ID, indicator_id)\n",
    "    \n",
    "    for select in select_elements:\n",
    "        option_elements = select.find_elements(By.TAG_NAME, 'option')\n",
    "        for idx, option in enumerate(option_elements[1:]):\n",
    "            indicator_list.append(option.text)\n",
    "        \n",
    "    return {indicator_id: indicator_list}"
   ]
  },
  {
   "attachments": {},
   "cell_type": "markdown",
   "metadata": {},
   "source": [
    "### 1. Scrap all indicators"
   ]
  },
  {
   "cell_type": "code",
   "execution_count": 3,
   "metadata": {},
   "outputs": [
    {
     "name": "stderr",
     "output_type": "stream",
     "text": [
      "Incompatible release of chromedriver (version 107.0.5304.62) detected in PATH: /usr/local/bin/chromedriver\n"
     ]
    }
   ],
   "source": [
    "# set up the Chrome driver\n",
    "service = Service(CHROMEDRIVER_PATH)\n",
    "options = webdriver.ChromeOptions()\n",
    "options.add_argument('--headless')\n",
    "\n",
    "# run Chrome in headless mode to avoid opening a visible window\n",
    "driver = webdriver.Chrome(service=service, options=options)\n",
    "\n",
    "# load the page\n",
    "driver.get(URL)"
   ]
  },
  {
   "cell_type": "code",
   "execution_count": 4,
   "metadata": {},
   "outputs": [
    {
     "name": "stdout",
     "output_type": "stream",
     "text": [
      "Selected: Tanaman Pangan\n"
     ]
    },
    {
     "data": {
      "text/plain": [
       "{'subsektor': ['Tanaman Pangan', 'Perkebunan', 'Peternakan', 'Hortikultura']}"
      ]
     },
     "execution_count": 4,
     "metadata": {},
     "output_type": "execute_result"
    }
   ],
   "source": [
    "subsektor = driver.find_element(By.XPATH, '//*[@id=\"subsektor\"]/option[2]')\n",
    "subsektor.click()\n",
    "\n",
    "print(f\"Selected: {subsektor.text}\")\n",
    "get_all_indicator_values(driver, 'subsektor')"
   ]
  },
  {
   "cell_type": "code",
   "execution_count": 5,
   "metadata": {},
   "outputs": [
    {
     "name": "stdout",
     "output_type": "stream",
     "text": [
      "JAGUNG\n"
     ]
    },
    {
     "data": {
      "text/plain": [
       "{'komoditas': ['JAGUNG',\n",
       "  'KACANG HIJAU',\n",
       "  'KACANG TANAH',\n",
       "  'KEDELAI',\n",
       "  'PADI',\n",
       "  'PADI LADANG',\n",
       "  'PADI SAWAH',\n",
       "  'UBIJALAR',\n",
       "  'UBIKAYU / KETELA POHON']}"
      ]
     },
     "execution_count": 5,
     "metadata": {},
     "output_type": "execute_result"
    }
   ],
   "source": [
    "komoditas = driver.find_element(By.XPATH, '//*[@id=\"komoditas\"]/option[2]')\n",
    "komoditas.click()\n",
    "\n",
    "print(komoditas.text)\n",
    "get_all_indicator_values(driver, 'komoditas')"
   ]
  },
  {
   "cell_type": "code",
   "execution_count": 6,
   "metadata": {},
   "outputs": [
    {
     "name": "stdout",
     "output_type": "stream",
     "text": [
      "Kabupaten\n"
     ]
    },
    {
     "data": {
      "text/plain": [
       "{'level': ['Nasional', 'Provinsi', 'Kabupaten']}"
      ]
     },
     "execution_count": 6,
     "metadata": {},
     "output_type": "execute_result"
    }
   ],
   "source": [
    "level = driver.find_element(By.XPATH, '//*[@id=\"level\"]/option[4]')\n",
    "level.click()\n",
    "\n",
    "print(level.text)\n",
    "get_all_indicator_values(driver, 'level')"
   ]
  },
  {
   "cell_type": "code",
   "execution_count": 7,
   "metadata": {},
   "outputs": [
    {
     "name": "stdout",
     "output_type": "stream",
     "text": [
      "Level: Kabupaten\n",
      "Lampung\n",
      "{'prov': ['Aceh', 'Sumatera Utara', 'Sumatera Barat', 'Riau', 'Jambi', 'Sumatera Selatan', 'Bengkulu', 'Lampung', 'Kepulauan Bangka Belitung', 'Kepulauan Riau', 'Daerah Khusus Ibukota Jakarta', 'Jawa Barat', 'Jawa Tengah', 'Daerah Istimewa Yogyakarta', 'Jawa Timur', 'Banten', 'Bali', 'Nusa Tenggara Barat', 'Nusa Tenggara Timur', 'Kalimantan Barat', 'Kalimantan Tengah', 'Kalimantan Selatan', 'Kalimantan Timur', 'Kalimantan Utara', 'Sulawesi Utara', 'Sulawesi Tengah', 'Sulawesi Selatan', 'Sulawesi Tenggara', 'Gorontalo', 'Sulawesi Barat', 'Maluku', 'Maluku Utara', 'Papua Barat', 'Papua']}\n"
     ]
    }
   ],
   "source": [
    "if level.text != 'Nasional':\n",
    "    print(f'Level: {level.text}')\n",
    "    prov = driver.find_element(By.XPATH, '//*[@id=\"prov\"]/option[9]')\n",
    "    prov.click()\n",
    "\n",
    "    print(prov.text)\n",
    "    print(get_all_indicator_values(driver, 'prov'))\n",
    "else:\n",
    "    print(f'Level: {level.text}\\nNo need to input prov')\n",
    "    "
   ]
  },
  {
   "cell_type": "code",
   "execution_count": 8,
   "metadata": {},
   "outputs": [
    {
     "name": "stdout",
     "output_type": "stream",
     "text": [
      "Kab. Pesisir Barat\n",
      "{'kab': ['Kab. Lampung Barat', 'Kab. Tanggamus', 'Kab. Lampung Selatan', 'Kab. Lampung Timur', 'Kab. Lampung Tengah', 'Kab. Lampung Utara', 'Kab. Way Kanan', 'Kab. Tulang Bawang', 'Kab. Pesawaran', 'Kab. Pringsewu', 'Kab. Mesuji', 'Kab. Tulang Bawang Barat', 'Kab. Pesisir Barat', 'Kota Bandar Lampung', 'Kota Metro']}\n"
     ]
    }
   ],
   "source": [
    "if level.text == 'Kabupaten':\n",
    "    kab = driver.find_element(By.XPATH, '//*[@id=\"kab\"]/option[14]')\n",
    "    kab.click()\n",
    "    print(kab.text)\n",
    "    print(get_all_indicator_values(driver, 'kab'))\n",
    "\n",
    "else:\n",
    "    print('No need to input kab')"
   ]
  },
  {
   "cell_type": "code",
   "execution_count": 9,
   "metadata": {},
   "outputs": [
    {
     "name": "stdout",
     "output_type": "stream",
     "text": [
      "1970\n",
      "{'tahunAwal': ['1970', '1971', '1972', '1973', '1974', '1975', '1976', '1977', '1978', '1979', '1980', '1981', '1982', '1983', '1984', '1985', '1986', '1987', '1988', '1989', '1990', '1991', '1992', '1993', '1994', '1995', '1996', '1997', '1998', '1999', '2000', '2001', '2002', '2003', '2004', '2005', '2006', '2007', '2008', '2009', '2010', '2011', '2012', '2013', '2014', '2015', '2016', '2017', '2018', '2019', '2020', '2021', '2022', '2023']}\n"
     ]
    }
   ],
   "source": [
    "tahunAwal = driver.find_element(By.XPATH, '//*[@id=\"tahunAwal\"]/option[2]')\n",
    "tahunAwal.click()\n",
    "\n",
    "print(tahunAwal.text)\n",
    "print(get_all_indicator_values(driver, 'tahunAwal'))"
   ]
  },
  {
   "cell_type": "code",
   "execution_count": 10,
   "metadata": {},
   "outputs": [
    {
     "name": "stdout",
     "output_type": "stream",
     "text": [
      "2023\n",
      "{'tahunAkhir': ['1970', '1971', '1972', '1973', '1974', '1975', '1976', '1977', '1978', '1979', '1980', '1981', '1982', '1983', '1984', '1985', '1986', '1987', '1988', '1989', '1990', '1991', '1992', '1993', '1994', '1995', '1996', '1997', '1998', '1999', '2000', '2001', '2002', '2003', '2004', '2005', '2006', '2007', '2008', '2009', '2010', '2011', '2012', '2013', '2014', '2015', '2016', '2017', '2018', '2019', '2020', '2021', '2022', '2023']}\n"
     ]
    }
   ],
   "source": [
    "tahunAkhir = driver.find_element(By.XPATH, '//*[@id=\"tahunAkhir\"]/option[55]')\n",
    "tahunAkhir.click()\n",
    "\n",
    "print(tahunAkhir.text)\n",
    "print(get_all_indicator_values(driver, 'tahunAkhir'))"
   ]
  },
  {
   "cell_type": "code",
   "execution_count": 11,
   "metadata": {},
   "outputs": [
    {
     "name": "stdout",
     "output_type": "stream",
     "text": [
      "{'subsektor': ['Tanaman Pangan', 'Perkebunan', 'Peternakan', 'Hortikultura'], 'komoditas': ['JAGUNG', 'KACANG HIJAU', 'KACANG TANAH', 'KEDELAI', 'PADI', 'PADI LADANG', 'PADI SAWAH', 'UBIJALAR', 'UBIKAYU / KETELA POHON'], 'level': ['Nasional', 'Provinsi', 'Kabupaten'], 'prov': ['Aceh', 'Sumatera Utara', 'Sumatera Barat', 'Riau', 'Jambi', 'Sumatera Selatan', 'Bengkulu', 'Lampung', 'Kepulauan Bangka Belitung', 'Kepulauan Riau', 'Daerah Khusus Ibukota Jakarta', 'Jawa Barat', 'Jawa Tengah', 'Daerah Istimewa Yogyakarta', 'Jawa Timur', 'Banten', 'Bali', 'Nusa Tenggara Barat', 'Nusa Tenggara Timur', 'Kalimantan Barat', 'Kalimantan Tengah', 'Kalimantan Selatan', 'Kalimantan Timur', 'Kalimantan Utara', 'Sulawesi Utara', 'Sulawesi Tengah', 'Sulawesi Selatan', 'Sulawesi Tenggara', 'Gorontalo', 'Sulawesi Barat', 'Maluku', 'Maluku Utara', 'Papua Barat', 'Papua'], 'kab': ['Kab. Lampung Barat', 'Kab. Tanggamus', 'Kab. Lampung Selatan', 'Kab. Lampung Timur', 'Kab. Lampung Tengah', 'Kab. Lampung Utara', 'Kab. Way Kanan', 'Kab. Tulang Bawang', 'Kab. Pesawaran', 'Kab. Pringsewu', 'Kab. Mesuji', 'Kab. Tulang Bawang Barat', 'Kab. Pesisir Barat', 'Kota Bandar Lampung', 'Kota Metro'], 'tahunAwal': ['1970', '1971', '1972', '1973', '1974', '1975', '1976', '1977', '1978', '1979', '1980', '1981', '1982', '1983', '1984', '1985', '1986', '1987', '1988', '1989', '1990', '1991', '1992', '1993', '1994', '1995', '1996', '1997', '1998', '1999', '2000', '2001', '2002', '2003', '2004', '2005', '2006', '2007', '2008', '2009', '2010', '2011', '2012', '2013', '2014', '2015', '2016', '2017', '2018', '2019', '2020', '2021', '2022', '2023'], 'tahunAkhir': ['1970', '1971', '1972', '1973', '1974', '1975', '1976', '1977', '1978', '1979', '1980', '1981', '1982', '1983', '1984', '1985', '1986', '1987', '1988', '1989', '1990', '1991', '1992', '1993', '1994', '1995', '1996', '1997', '1998', '1999', '2000', '2001', '2002', '2003', '2004', '2005', '2006', '2007', '2008', '2009', '2010', '2011', '2012', '2013', '2014', '2015', '2016', '2017', '2018', '2019', '2020', '2021', '2022', '2023']}\n"
     ]
    }
   ],
   "source": [
    "indicator_name_list = [\n",
    "    'subsektor',\n",
    "    'komoditas',\n",
    "    'level',\n",
    "    'prov',\n",
    "    'kab',\n",
    "    'tahunAwal',\n",
    "    'tahunAkhir',\n",
    "]\n",
    "\n",
    "dict_indicator = {}\n",
    "for indicator in indicator_name_list:\n",
    "    dict_indicator.update(get_all_indicator_values(driver, indicator))\n",
    "    \n",
    "\n",
    "print(dict_indicator)"
   ]
  },
  {
   "attachments": {},
   "cell_type": "markdown",
   "metadata": {},
   "source": [
    "### 2. Scrap a table"
   ]
  },
  {
   "cell_type": "code",
   "execution_count": 12,
   "metadata": {},
   "outputs": [
    {
     "name": "stdout",
     "output_type": "stream",
     "text": [
      "Search:\n",
      "No Indikator Satuan 1970 1971 1972 1973 1974 1975 1976 1977 1978 1979 1980 1981 1982 1983 1984 1985 1986 1987 1988 1989 1990 1991 1992 1993 1994 1995 1996 1997 1998 1999 2000 2001 2002 2003 2004 2005 2006 2007 2008 2009 2010 2011 2012 2013 2014 2015 2016 2017 2018 2019 2020 2021 2022 2023\n",
      "1 LUAS PANEN Ha 0,00 0,00 0,00 0,00 0,00 0,00 0,00 0,00 0,00 0,00 0,00 0,00 0,00 0,00 0,00 0,00 0,00 0,00 0,00 0,00 0,00 0,00 0,00 0,00 0,00 0,00 0,00 0,00 0,00 0,00 0,00 0,00 0,00 0,00 0,00 0,00 0,00 0,00 0,00 0,00 0,00 0,00 0,00 4804,00 3254,00 4774,00 6146,00 6050,60 0,00 0,00 0,00 0,00 0,00 0,00\n",
      "2 PRODUKSI Ton 0,00 0,00 0,00 0,00 0,00 0,00 0,00 0,00 0,00 0,00 0,00 0,00 0,00 0,00 0,00 0,00 0,00 0,00 0,00 0,00 0,00 0,00 0,00 0,00 0,00 0,00 0,00 0,00 0,00 0,00 0,00 0,00 0,00 0,00 0,00 0,00 0,00 0,00 0,00 0,00 0,00 0,00 0,00 20048,00 13488,00 20214,00 32005,00 32668,49 0,00 0,00 0,00 0,00 0,00 0,00\n",
      "3 PRODUKTIVITAS Kuintal/Ha 0,00 0,00 0,00 0,00 0,00 0,00 0,00 0,00 0,00 0,00 0,00 0,00 0,00 0,00 0,00 0,00 0,00 0,00 0,00 0,00 0,00 0,00 0,00 0,00 0,00 0,00 0,00 0,00 0,00 0,00 0,00 0,00 0,00 0,00 0,00 0,00 0,00 0,00 0,00 0,00 0,00 0,00 0,00 41,73 41,45 42,34 52,07 53,99 0,00 0,00 0,00 0,00 0,00 0,00\n"
     ]
    }
   ],
   "source": [
    "searchButton = driver.find_element(By.XPATH, '//*[@id=\"search\"]')\n",
    "searchButton.click()\n",
    "time.sleep(1)\n",
    "\n",
    "\n",
    "# wait for the table to load\n",
    "table_element = WebDriverWait(driver, 5).until(EC.presence_of_element_located((By.CLASS_NAME, 'table-responsive')))\n",
    "\n",
    "print(table_element.text)"
   ]
  },
  {
   "cell_type": "code",
   "execution_count": 13,
   "metadata": {},
   "outputs": [
    {
     "name": "stdout",
     "output_type": "stream",
     "text": [
      "['No', 'Indikator', 'Satuan', '1970', '1971', '1972', '1973', '1974', '1975', '1976', '1977', '1978', '1979', '1980', '1981', '1982', '1983', '1984', '1985', '1986', '1987', '1988', '1989', '1990', '1991', '1992', '1993', '1994', '1995', '1996', '1997', '1998', '1999', '2000', '2001', '2002', '2003', '2004', '2005', '2006', '2007', '2008', '2009', '2010', '2011', '2012', '2013', '2014', '2015', '2016', '2017', '2018', '2019', '2020', '2021', '2022', '2023']\n"
     ]
    }
   ],
   "source": [
    "header_elements = table_element.find_elements(By.TAG_NAME, 'thead')\n",
    "headers = [header.text.split(\" \") for header in header_elements][0]\n",
    "\n",
    "print(headers)\n"
   ]
  },
  {
   "cell_type": "code",
   "execution_count": 14,
   "metadata": {},
   "outputs": [
    {
     "name": "stdout",
     "output_type": "stream",
     "text": [
      "['1', 'LUAS PANEN', 'Ha', '0,00', '0,00', '0,00', '0,00', '0,00', '0,00', '0,00', '0,00', '0,00', '0,00', '0,00', '0,00', '0,00', '0,00', '0,00', '0,00', '0,00', '0,00', '0,00', '0,00', '0,00', '0,00', '0,00', '0,00', '0,00', '0,00', '0,00', '0,00', '0,00', '0,00', '0,00', '0,00', '0,00', '0,00', '0,00', '0,00', '0,00', '0,00', '0,00', '0,00', '0,00', '0,00', '0,00', '4804,00', '3254,00', '4774,00', '6146,00', '6050,60', '0,00', '0,00', '0,00', '0,00', '0,00', '0,00']\n",
      "['2', 'PRODUKSI', 'Ton', '0,00', '0,00', '0,00', '0,00', '0,00', '0,00', '0,00', '0,00', '0,00', '0,00', '0,00', '0,00', '0,00', '0,00', '0,00', '0,00', '0,00', '0,00', '0,00', '0,00', '0,00', '0,00', '0,00', '0,00', '0,00', '0,00', '0,00', '0,00', '0,00', '0,00', '0,00', '0,00', '0,00', '0,00', '0,00', '0,00', '0,00', '0,00', '0,00', '0,00', '0,00', '0,00', '0,00', '20048,00', '13488,00', '20214,00', '32005,00', '32668,49', '0,00', '0,00', '0,00', '0,00', '0,00', '0,00']\n",
      "['3', 'PRODUKTIVITAS', 'Kuintal/Ha', '0,00', '0,00', '0,00', '0,00', '0,00', '0,00', '0,00', '0,00', '0,00', '0,00', '0,00', '0,00', '0,00', '0,00', '0,00', '0,00', '0,00', '0,00', '0,00', '0,00', '0,00', '0,00', '0,00', '0,00', '0,00', '0,00', '0,00', '0,00', '0,00', '0,00', '0,00', '0,00', '0,00', '0,00', '0,00', '0,00', '0,00', '0,00', '0,00', '0,00', '0,00', '0,00', '0,00', '41,73', '41,45', '42,34', '52,07', '53,99', '0,00', '0,00', '0,00', '0,00', '0,00', '0,00']\n"
     ]
    }
   ],
   "source": [
    "data = []\n",
    "row_elements = table_element.find_elements(By.TAG_NAME, 'tr')\n",
    "for row in row_elements[1:]:\n",
    "    cell_elements = row.find_elements(By.TAG_NAME, 'td')\n",
    "    row_data = [cell.text.strip() for cell in cell_elements]\n",
    "    data.append(row_data)\n",
    "    \n",
    "for row in data:\n",
    "    print(row)"
   ]
  },
  {
   "cell_type": "code",
   "execution_count": 28,
   "metadata": {},
   "outputs": [],
   "source": [
    "df = pd.DataFrame(data, columns=headers)\n",
    "df = df[['No', 'Indikator', 'Satuan', '2020', '2021', '2022', '2023']].copy()\n",
    "df.to_csv('./sample.csv', index=False)"
   ]
  },
  {
   "cell_type": "code",
   "execution_count": 16,
   "metadata": {},
   "outputs": [
    {
     "name": "stdout",
     "output_type": "stream",
     "text": [
      "(162, 4)\n"
     ]
    },
    {
     "data": {
      "text/html": [
       "<div>\n",
       "<style scoped>\n",
       "    .dataframe tbody tr th:only-of-type {\n",
       "        vertical-align: middle;\n",
       "    }\n",
       "\n",
       "    .dataframe tbody tr th {\n",
       "        vertical-align: top;\n",
       "    }\n",
       "\n",
       "    .dataframe thead th {\n",
       "        text-align: right;\n",
       "    }\n",
       "</style>\n",
       "<table border=\"1\" class=\"dataframe\">\n",
       "  <thead>\n",
       "    <tr style=\"text-align: right;\">\n",
       "      <th></th>\n",
       "      <th>Indikator</th>\n",
       "      <th>Satuan</th>\n",
       "      <th>Tahun</th>\n",
       "      <th>Jumlah</th>\n",
       "    </tr>\n",
       "  </thead>\n",
       "  <tbody>\n",
       "    <tr>\n",
       "      <th>102</th>\n",
       "      <td>LUAS PANEN</td>\n",
       "      <td>Ha</td>\n",
       "      <td>2004</td>\n",
       "      <td>0,00</td>\n",
       "    </tr>\n",
       "    <tr>\n",
       "      <th>124</th>\n",
       "      <td>PRODUKSI</td>\n",
       "      <td>Ton</td>\n",
       "      <td>2011</td>\n",
       "      <td>0,00</td>\n",
       "    </tr>\n",
       "    <tr>\n",
       "      <th>12</th>\n",
       "      <td>LUAS PANEN</td>\n",
       "      <td>Ha</td>\n",
       "      <td>1974</td>\n",
       "      <td>0,00</td>\n",
       "    </tr>\n",
       "    <tr>\n",
       "      <th>33</th>\n",
       "      <td>LUAS PANEN</td>\n",
       "      <td>Ha</td>\n",
       "      <td>1981</td>\n",
       "      <td>0,00</td>\n",
       "    </tr>\n",
       "    <tr>\n",
       "      <th>123</th>\n",
       "      <td>LUAS PANEN</td>\n",
       "      <td>Ha</td>\n",
       "      <td>2011</td>\n",
       "      <td>0,00</td>\n",
       "    </tr>\n",
       "  </tbody>\n",
       "</table>\n",
       "</div>"
      ],
      "text/plain": [
       "      Indikator Satuan Tahun Jumlah\n",
       "102  LUAS PANEN     Ha  2004   0,00\n",
       "124    PRODUKSI    Ton  2011   0,00\n",
       "12   LUAS PANEN     Ha  1974   0,00\n",
       "33   LUAS PANEN     Ha  1981   0,00\n",
       "123  LUAS PANEN     Ha  2011   0,00"
      ]
     },
     "execution_count": 16,
     "metadata": {},
     "output_type": "execute_result"
    }
   ],
   "source": [
    "df2 = df.drop(columns=['No'])\n",
    "\n",
    "df2 = df2.melt(\n",
    "    id_vars=['Indikator', 'Satuan'],\n",
    "    var_name=\"Tahun\",\n",
    "    value_name=\"Jumlah\"\n",
    ")\n",
    "\n",
    "print(df2.shape)\n",
    "df2.sample(5)"
   ]
  },
  {
   "cell_type": "code",
   "execution_count": 17,
   "metadata": {},
   "outputs": [
    {
     "data": {
      "text/html": [
       "<div>\n",
       "<style scoped>\n",
       "    .dataframe tbody tr th:only-of-type {\n",
       "        vertical-align: middle;\n",
       "    }\n",
       "\n",
       "    .dataframe tbody tr th {\n",
       "        vertical-align: top;\n",
       "    }\n",
       "\n",
       "    .dataframe thead th {\n",
       "        text-align: right;\n",
       "    }\n",
       "</style>\n",
       "<table border=\"1\" class=\"dataframe\">\n",
       "  <thead>\n",
       "    <tr style=\"text-align: right;\">\n",
       "      <th></th>\n",
       "      <th>Indikator</th>\n",
       "      <th>Satuan</th>\n",
       "      <th>Tahun</th>\n",
       "      <th>Jumlah</th>\n",
       "      <th>Subsektor</th>\n",
       "      <th>Komoditi</th>\n",
       "      <th>Provinsi</th>\n",
       "      <th>Kabupaten</th>\n",
       "    </tr>\n",
       "  </thead>\n",
       "  <tbody>\n",
       "    <tr>\n",
       "      <th>0</th>\n",
       "      <td>LUAS PANEN</td>\n",
       "      <td>Ha</td>\n",
       "      <td>1970</td>\n",
       "      <td>0,00</td>\n",
       "      <td></td>\n",
       "      <td></td>\n",
       "      <td></td>\n",
       "      <td></td>\n",
       "    </tr>\n",
       "    <tr>\n",
       "      <th>1</th>\n",
       "      <td>PRODUKSI</td>\n",
       "      <td>Ton</td>\n",
       "      <td>1970</td>\n",
       "      <td>0,00</td>\n",
       "      <td></td>\n",
       "      <td></td>\n",
       "      <td></td>\n",
       "      <td></td>\n",
       "    </tr>\n",
       "    <tr>\n",
       "      <th>2</th>\n",
       "      <td>PRODUKTIVITAS</td>\n",
       "      <td>Kuintal/Ha</td>\n",
       "      <td>1970</td>\n",
       "      <td>0,00</td>\n",
       "      <td></td>\n",
       "      <td></td>\n",
       "      <td></td>\n",
       "      <td></td>\n",
       "    </tr>\n",
       "    <tr>\n",
       "      <th>3</th>\n",
       "      <td>LUAS PANEN</td>\n",
       "      <td>Ha</td>\n",
       "      <td>1971</td>\n",
       "      <td>0,00</td>\n",
       "      <td></td>\n",
       "      <td></td>\n",
       "      <td></td>\n",
       "      <td></td>\n",
       "    </tr>\n",
       "    <tr>\n",
       "      <th>4</th>\n",
       "      <td>PRODUKSI</td>\n",
       "      <td>Ton</td>\n",
       "      <td>1971</td>\n",
       "      <td>0,00</td>\n",
       "      <td></td>\n",
       "      <td></td>\n",
       "      <td></td>\n",
       "      <td></td>\n",
       "    </tr>\n",
       "    <tr>\n",
       "      <th>...</th>\n",
       "      <td>...</td>\n",
       "      <td>...</td>\n",
       "      <td>...</td>\n",
       "      <td>...</td>\n",
       "      <td>...</td>\n",
       "      <td>...</td>\n",
       "      <td>...</td>\n",
       "      <td>...</td>\n",
       "    </tr>\n",
       "    <tr>\n",
       "      <th>157</th>\n",
       "      <td>PRODUKSI</td>\n",
       "      <td>Ton</td>\n",
       "      <td>2022</td>\n",
       "      <td>0,00</td>\n",
       "      <td></td>\n",
       "      <td></td>\n",
       "      <td></td>\n",
       "      <td></td>\n",
       "    </tr>\n",
       "    <tr>\n",
       "      <th>158</th>\n",
       "      <td>PRODUKTIVITAS</td>\n",
       "      <td>Kuintal/Ha</td>\n",
       "      <td>2022</td>\n",
       "      <td>0,00</td>\n",
       "      <td></td>\n",
       "      <td></td>\n",
       "      <td></td>\n",
       "      <td></td>\n",
       "    </tr>\n",
       "    <tr>\n",
       "      <th>159</th>\n",
       "      <td>LUAS PANEN</td>\n",
       "      <td>Ha</td>\n",
       "      <td>2023</td>\n",
       "      <td>0,00</td>\n",
       "      <td></td>\n",
       "      <td></td>\n",
       "      <td></td>\n",
       "      <td></td>\n",
       "    </tr>\n",
       "    <tr>\n",
       "      <th>160</th>\n",
       "      <td>PRODUKSI</td>\n",
       "      <td>Ton</td>\n",
       "      <td>2023</td>\n",
       "      <td>0,00</td>\n",
       "      <td></td>\n",
       "      <td></td>\n",
       "      <td></td>\n",
       "      <td></td>\n",
       "    </tr>\n",
       "    <tr>\n",
       "      <th>161</th>\n",
       "      <td>PRODUKTIVITAS</td>\n",
       "      <td>Kuintal/Ha</td>\n",
       "      <td>2023</td>\n",
       "      <td>0,00</td>\n",
       "      <td></td>\n",
       "      <td></td>\n",
       "      <td></td>\n",
       "      <td></td>\n",
       "    </tr>\n",
       "  </tbody>\n",
       "</table>\n",
       "<p>162 rows × 8 columns</p>\n",
       "</div>"
      ],
      "text/plain": [
       "         Indikator      Satuan Tahun Jumlah Subsektor Komoditi Provinsi   \n",
       "0       LUAS PANEN          Ha  1970   0,00                              \\\n",
       "1         PRODUKSI         Ton  1970   0,00                               \n",
       "2    PRODUKTIVITAS  Kuintal/Ha  1970   0,00                               \n",
       "3       LUAS PANEN          Ha  1971   0,00                               \n",
       "4         PRODUKSI         Ton  1971   0,00                               \n",
       "..             ...         ...   ...    ...       ...      ...      ...   \n",
       "157       PRODUKSI         Ton  2022   0,00                               \n",
       "158  PRODUKTIVITAS  Kuintal/Ha  2022   0,00                               \n",
       "159     LUAS PANEN          Ha  2023   0,00                               \n",
       "160       PRODUKSI         Ton  2023   0,00                               \n",
       "161  PRODUKTIVITAS  Kuintal/Ha  2023   0,00                               \n",
       "\n",
       "    Kabupaten  \n",
       "0              \n",
       "1              \n",
       "2              \n",
       "3              \n",
       "4              \n",
       "..        ...  \n",
       "157            \n",
       "158            \n",
       "159            \n",
       "160            \n",
       "161            \n",
       "\n",
       "[162 rows x 8 columns]"
      ]
     },
     "execution_count": 17,
     "metadata": {},
     "output_type": "execute_result"
    }
   ],
   "source": [
    "df2['Subsektor'] = subsektor.text\n",
    "df2['Komoditi'] = komoditas.text\n",
    "df2['Provinsi'] = prov.text\n",
    "df2['Kabupaten'] = kab.text\n",
    "\n",
    "df2"
   ]
  },
  {
   "cell_type": "code",
   "execution_count": 18,
   "metadata": {},
   "outputs": [],
   "source": [
    "df2.to_csv('../data/DataKeluaranIndikator.csv')"
   ]
  },
  {
   "cell_type": "code",
   "execution_count": 19,
   "metadata": {},
   "outputs": [],
   "source": [
    "# close the browser\n",
    "driver.quit()"
   ]
  },
  {
   "cell_type": "code",
   "execution_count": 20,
   "metadata": {},
   "outputs": [
    {
     "name": "stdout",
     "output_type": "stream",
     "text": [
      "Nasional\n",
      "Provinsi\n",
      "Kabupaten\n"
     ]
    }
   ],
   "source": [
    "a_dict = {\n",
    "    'level': ['Nasional', 'Provinsi', 'Kabupaten'],\n",
    "    'provinsi': {'Nasional': [], 'Provinsi': ['Aceh', 'Sumatera Utara']}\n",
    "}\n",
    "\n",
    "a_dict['provinsi'].keys()\n",
    "\n",
    "for level in a_dict['level']:\n",
    "    print(level)"
   ]
  },
  {
   "cell_type": "code",
   "execution_count": 21,
   "metadata": {},
   "outputs": [
    {
     "name": "stdout",
     "output_type": "stream",
     "text": [
      "level ['Nasional', 'Provinsi', 'Kabupaten']\n",
      "provinsi {'Nasional': [], 'Provinsi': ['Aceh', 'Sumatera Utara']}\n"
     ]
    }
   ],
   "source": [
    "def test(**kwargs):\n",
    "    for key, value in kwargs.items():\n",
    "        print(key, value)\n",
    "        \n",
    "test(**a_dict)"
   ]
  },
  {
   "cell_type": "code",
   "execution_count": 22,
   "metadata": {},
   "outputs": [],
   "source": [
    "a = {'subsektor': {'Tanaman Pangan': 2}, 'level': {'Kabupaten': 4}, 'tahunAwal': {'1970': 2}, 'tahunAkhir': {'2023': 55}, 'kab': {'Kab. Simeulue': 2}, 'komoditas': {'JAGUNG': 2}}\n"
   ]
  },
  {
   "cell_type": "code",
   "execution_count": 23,
   "metadata": {},
   "outputs": [
    {
     "name": "stdout",
     "output_type": "stream",
     "text": [
      "2\n",
      "4\n",
      "2\n",
      "55\n",
      "2\n",
      "2\n"
     ]
    }
   ],
   "source": [
    "for indicator_id, indicator_name in a.items():\n",
    "    for indicator_name, indicator_idx in a[indicator_id].items():\n",
    "        print(indicator_idx)"
   ]
  },
  {
   "cell_type": "code",
   "execution_count": 24,
   "metadata": {},
   "outputs": [
    {
     "data": {
      "text/html": [
       "<div>\n",
       "<style scoped>\n",
       "    .dataframe tbody tr th:only-of-type {\n",
       "        vertical-align: middle;\n",
       "    }\n",
       "\n",
       "    .dataframe tbody tr th {\n",
       "        vertical-align: top;\n",
       "    }\n",
       "\n",
       "    .dataframe thead th {\n",
       "        text-align: right;\n",
       "    }\n",
       "</style>\n",
       "<table border=\"1\" class=\"dataframe\">\n",
       "  <thead>\n",
       "    <tr style=\"text-align: right;\">\n",
       "      <th></th>\n",
       "      <th>Subsektor</th>\n",
       "      <th>Komoditi</th>\n",
       "      <th>Provinsi</th>\n",
       "      <th>Kabupaten</th>\n",
       "    </tr>\n",
       "  </thead>\n",
       "  <tbody>\n",
       "    <tr>\n",
       "      <th>0</th>\n",
       "      <td>Tanaman Pangan</td>\n",
       "      <td>0.0</td>\n",
       "      <td>0.0</td>\n",
       "      <td>0.0</td>\n",
       "    </tr>\n",
       "    <tr>\n",
       "      <th>1</th>\n",
       "      <td>Tanaman Pangan</td>\n",
       "      <td>1.0</td>\n",
       "      <td>0.0</td>\n",
       "      <td>0.0</td>\n",
       "    </tr>\n",
       "    <tr>\n",
       "      <th>2</th>\n",
       "      <td>Tanaman Pangan</td>\n",
       "      <td>0.0</td>\n",
       "      <td>1.0</td>\n",
       "      <td>0.0</td>\n",
       "    </tr>\n",
       "    <tr>\n",
       "      <th>3</th>\n",
       "      <td>Tanaman Pangan</td>\n",
       "      <td>0.0</td>\n",
       "      <td>0.0</td>\n",
       "      <td>1.0</td>\n",
       "    </tr>\n",
       "    <tr>\n",
       "      <th>4</th>\n",
       "      <td>Tanaman Pangan</td>\n",
       "      <td>0.0</td>\n",
       "      <td>0.0</td>\n",
       "      <td>0.0</td>\n",
       "    </tr>\n",
       "    <tr>\n",
       "      <th>...</th>\n",
       "      <td>...</td>\n",
       "      <td>...</td>\n",
       "      <td>...</td>\n",
       "      <td>...</td>\n",
       "    </tr>\n",
       "    <tr>\n",
       "      <th>157</th>\n",
       "      <td>Tanaman Pangan</td>\n",
       "      <td>0.0</td>\n",
       "      <td>0.0</td>\n",
       "      <td>0.0</td>\n",
       "    </tr>\n",
       "    <tr>\n",
       "      <th>158</th>\n",
       "      <td>Tanaman Pangan</td>\n",
       "      <td>0.0</td>\n",
       "      <td>0.0</td>\n",
       "      <td>0.0</td>\n",
       "    </tr>\n",
       "    <tr>\n",
       "      <th>159</th>\n",
       "      <td>Tanaman Pangan</td>\n",
       "      <td>0.0</td>\n",
       "      <td>0.0</td>\n",
       "      <td>0.0</td>\n",
       "    </tr>\n",
       "    <tr>\n",
       "      <th>160</th>\n",
       "      <td>Tanaman Pangan</td>\n",
       "      <td>0.0</td>\n",
       "      <td>0.0</td>\n",
       "      <td>0.0</td>\n",
       "    </tr>\n",
       "    <tr>\n",
       "      <th>161</th>\n",
       "      <td>Tanaman Pangan</td>\n",
       "      <td>0.0</td>\n",
       "      <td>0.0</td>\n",
       "      <td>0.0</td>\n",
       "    </tr>\n",
       "  </tbody>\n",
       "</table>\n",
       "<p>162 rows × 4 columns</p>\n",
       "</div>"
      ],
      "text/plain": [
       "          Subsektor  Komoditi  Provinsi  Kabupaten\n",
       "0    Tanaman Pangan       0.0       0.0        0.0\n",
       "1    Tanaman Pangan       1.0       0.0        0.0\n",
       "2    Tanaman Pangan       0.0       1.0        0.0\n",
       "3    Tanaman Pangan       0.0       0.0        1.0\n",
       "4    Tanaman Pangan       0.0       0.0        0.0\n",
       "..              ...       ...       ...        ...\n",
       "157  Tanaman Pangan       0.0       0.0        0.0\n",
       "158  Tanaman Pangan       0.0       0.0        0.0\n",
       "159  Tanaman Pangan       0.0       0.0        0.0\n",
       "160  Tanaman Pangan       0.0       0.0        0.0\n",
       "161  Tanaman Pangan       0.0       0.0        0.0\n",
       "\n",
       "[162 rows x 4 columns]"
      ]
     },
     "execution_count": 24,
     "metadata": {},
     "output_type": "execute_result"
    }
   ],
   "source": [
    "import numpy as np\n",
    "import pandas as pd\n",
    "\n",
    "shape = (162, 4)\n",
    "df_info = pd.DataFrame(\n",
    "    np.eye(shape[0], shape[1]),\n",
    "    columns=['Subsektor', 'Komoditi', 'Provinsi', 'Kabupaten']\n",
    ")\n",
    "df_info['Subsektor'] = 'Tanaman Pangan'\n",
    "df_info"
   ]
  },
  {
   "cell_type": "code",
   "execution_count": 25,
   "metadata": {},
   "outputs": [
    {
     "data": {
      "text/plain": [
       "{'subsektor': ['Tanaman Pangan', 'Perkebunan', 'Peternakan', 'Hortikultura'],\n",
       " 'level': ['Nasional', 'Provinsi', 'Kabupaten'],\n",
       " 'tahunAwal': ['1970',\n",
       "  '1971',\n",
       "  '1972',\n",
       "  '1973',\n",
       "  '1974',\n",
       "  '1975',\n",
       "  '1976',\n",
       "  '1977',\n",
       "  '1978',\n",
       "  '1979',\n",
       "  '1980',\n",
       "  '1981',\n",
       "  '1982',\n",
       "  '1983',\n",
       "  '1984',\n",
       "  '1985',\n",
       "  '1986',\n",
       "  '1987',\n",
       "  '1988',\n",
       "  '1989',\n",
       "  '1990',\n",
       "  '1991',\n",
       "  '1992',\n",
       "  '1993',\n",
       "  '1994',\n",
       "  '1995',\n",
       "  '1996',\n",
       "  '1997',\n",
       "  '1998',\n",
       "  '1999',\n",
       "  '2000',\n",
       "  '2001',\n",
       "  '2002',\n",
       "  '2003',\n",
       "  '2004',\n",
       "  '2005',\n",
       "  '2006',\n",
       "  '2007',\n",
       "  '2008',\n",
       "  '2009',\n",
       "  '2010',\n",
       "  '2011',\n",
       "  '2012',\n",
       "  '2013',\n",
       "  '2014',\n",
       "  '2015',\n",
       "  '2016',\n",
       "  '2017',\n",
       "  '2018',\n",
       "  '2019',\n",
       "  '2020',\n",
       "  '2021',\n",
       "  '2022',\n",
       "  '2023'],\n",
       " 'tahunAkhir': ['1970',\n",
       "  '1971',\n",
       "  '1972',\n",
       "  '1973',\n",
       "  '1974',\n",
       "  '1975',\n",
       "  '1976',\n",
       "  '1977',\n",
       "  '1978',\n",
       "  '1979',\n",
       "  '1980',\n",
       "  '1981',\n",
       "  '1982',\n",
       "  '1983',\n",
       "  '1984',\n",
       "  '1985',\n",
       "  '1986',\n",
       "  '1987',\n",
       "  '1988',\n",
       "  '1989',\n",
       "  '1990',\n",
       "  '1991',\n",
       "  '1992',\n",
       "  '1993',\n",
       "  '1994',\n",
       "  '1995',\n",
       "  '1996',\n",
       "  '1997',\n",
       "  '1998',\n",
       "  '1999',\n",
       "  '2000',\n",
       "  '2001',\n",
       "  '2002',\n",
       "  '2003',\n",
       "  '2004',\n",
       "  '2005',\n",
       "  '2006',\n",
       "  '2007',\n",
       "  '2008',\n",
       "  '2009',\n",
       "  '2010',\n",
       "  '2011',\n",
       "  '2012',\n",
       "  '2013',\n",
       "  '2014',\n",
       "  '2015',\n",
       "  '2016',\n",
       "  '2017',\n",
       "  '2018',\n",
       "  '2019',\n",
       "  '2020',\n",
       "  '2021',\n",
       "  '2022',\n",
       "  '2023'],\n",
       " 'komoditas': {'Tanaman Pangan': ['JAGUNG',\n",
       "   'KACANG HIJAU',\n",
       "   'KACANG TANAH',\n",
       "   'KEDELAI',\n",
       "   'PADI',\n",
       "   'PADI LADANG',\n",
       "   'PADI SAWAH',\n",
       "   'UBIJALAR',\n",
       "   'UBIKAYU / KETELA POHON'],\n",
       "  'Perkebunan': ['AREN',\n",
       "   'ASAM JAWA',\n",
       "   'CENGKEH',\n",
       "   'JAMBU METE',\n",
       "   'JARAK',\n",
       "   'KAKAO',\n",
       "   'KAPAS',\n",
       "   'KAPUK',\n",
       "   'KARET',\n",
       "   'KAYU MANIS',\n",
       "   'KELAPA',\n",
       "   'KELAPA DALAM',\n",
       "   'KELAPA DERES',\n",
       "   'KELAPA HIBRIDA',\n",
       "   'KELAPA SAWIT',\n",
       "   'KEMIRI',\n",
       "   'KOPI',\n",
       "   'KOPI ARABIKA',\n",
       "   'KOPI ROBUSTA',\n",
       "   'LADA',\n",
       "   'NILAM',\n",
       "   'NIPAH',\n",
       "   'PALA',\n",
       "   'PANILI',\n",
       "   'PINANG',\n",
       "   'SAGU',\n",
       "   'SERAT KARUNG/RAMI',\n",
       "   'SEREH WANGI',\n",
       "   'SIWALAN',\n",
       "   'TEBU',\n",
       "   'TEH',\n",
       "   'TEMBAKAU'],\n",
       "  'Peternakan': ['AYAM BURAS',\n",
       "   'AYAM RAS PEDAGING',\n",
       "   'AYAM RAS PETELUR',\n",
       "   'BABI',\n",
       "   'BURUNG PUYUH',\n",
       "   'DAGING AYAM BURAS',\n",
       "   'DAGING AYAM RAS PEDAGING',\n",
       "   'DAGING AYAM RAS PETELUR',\n",
       "   'DAGING BABI',\n",
       "   'DAGING BURUNG PUYUH',\n",
       "   'DAGING DOMBA',\n",
       "   'DAGING ITIK',\n",
       "   'DAGING ITIK MANILA',\n",
       "   'DAGING KAMBING',\n",
       "   'DAGING KELINCI',\n",
       "   'DAGING KERBAU',\n",
       "   'DAGING KUDA',\n",
       "   'DAGING MERPATI',\n",
       "   'DAGING SAPI',\n",
       "   'DOMBA',\n",
       "   'ITIK',\n",
       "   'ITIK MANILA',\n",
       "   'KAMBING',\n",
       "   'KELINCI',\n",
       "   'KERBAU',\n",
       "   'KUDA',\n",
       "   'MERPATI',\n",
       "   'SAPI PERAH',\n",
       "   'SAPI POTONG',\n",
       "   'SUSU SAPI PERAH',\n",
       "   'TELUR AYAM BURAS',\n",
       "   'TELUR AYAM RAS PETELUR',\n",
       "   'TELUR BURUNG PUYUH',\n",
       "   'TELUR ITIK',\n",
       "   'TELUR ITIK MANILA'],\n",
       "  'Hortikultura': ['ADENIUM',\n",
       "   'AGLAOENEMA',\n",
       "   'ALPUKAT',\n",
       "   'ANGGREK',\n",
       "   'ANGGUR',\n",
       "   'ANTHURIUM BUNGA',\n",
       "   'ANTHURIUM DAUN',\n",
       "   'ANYELIR',\n",
       "   'APEL',\n",
       "   'BAWANG DAUN',\n",
       "   'BAWANG MERAH',\n",
       "   'BAWANG PUTIH',\n",
       "   'BAYAM',\n",
       "   'BELIMBING',\n",
       "   'BUNCIS',\n",
       "   'CABE BESAR',\n",
       "   'CABE RAWIT',\n",
       "   'CALADIUM',\n",
       "   'CORDYLENE',\n",
       "   'DIEFFENBACHIA',\n",
       "   'DRACAENA',\n",
       "   'DRINGO',\n",
       "   'DUKU / LANGSAT',\n",
       "   'DURIAN',\n",
       "   'EUPHORBIA',\n",
       "   'GERBERA/HERBRAS',\n",
       "   'GLADIOL',\n",
       "   'HELICONIA',\n",
       "   'JAHE',\n",
       "   'JAMBU AIR',\n",
       "   'JAMBU BIJI',\n",
       "   'JAMUR',\n",
       "   'JENGKOL',\n",
       "   'JERUK BESAR',\n",
       "   'JERUK SIAM',\n",
       "   'KACANG MERAH',\n",
       "   'KACANG PANJANG',\n",
       "   'KANGKUNG',\n",
       "   'KAPULAGA',\n",
       "   'KEJIBELING',\n",
       "   'KEMBANG KOL',\n",
       "   'KENCUR',\n",
       "   'KENTANG',\n",
       "   'KETIMUN',\n",
       "   'KOL / KUBIS',\n",
       "   'KRISAN',\n",
       "   'KUNYIT',\n",
       "   'LABU SIAM',\n",
       "   'LEMPUYANG',\n",
       "   'LENGKUAS',\n",
       "   'LIDAH BUAYA',\n",
       "   'LOBAK',\n",
       "   'MAHKOTA DEWA',\n",
       "   'MANGGA',\n",
       "   'MANGGIS',\n",
       "   'MARKISA',\n",
       "   'MAWAR',\n",
       "   'MELATI',\n",
       "   'MELINJO',\n",
       "   'MELON',\n",
       "   'MENGKUDU/PACE',\n",
       "   'MONSTERA',\n",
       "   'NANGKA / CEMPEDAK',\n",
       "   'NENAS',\n",
       "   'PAKIS',\n",
       "   'PALEM',\n",
       "   'PAPRIKA',\n",
       "   'PEPAYA',\n",
       "   'PETAI',\n",
       "   'PETSAI / SAWI',\n",
       "   'PHYLODENDRON',\n",
       "   'PISANG',\n",
       "   'RAMBUTAN',\n",
       "   'SALAK',\n",
       "   'SAMBILOTO',\n",
       "   'SANSEVIERRIA',\n",
       "   'SAWO',\n",
       "   'SEDAP MALAM',\n",
       "   'SEMANGKA',\n",
       "   'SIRSAK',\n",
       "   'SOKA',\n",
       "   'STRAWBERRY',\n",
       "   'SUKUN',\n",
       "   'TEMUIRENG',\n",
       "   'TEMUKUNCI',\n",
       "   'TEMULAWAK',\n",
       "   'TERUNG',\n",
       "   'TOMAT',\n",
       "   'WORTEL']},\n",
       " 'prov': ['Aceh',\n",
       "  'Sumatera Utara',\n",
       "  'Sumatera Barat',\n",
       "  'Riau',\n",
       "  'Jambi',\n",
       "  'Sumatera Selatan',\n",
       "  'Bengkulu',\n",
       "  'Lampung',\n",
       "  'Kepulauan Bangka Belitung',\n",
       "  'Kepulauan Riau',\n",
       "  'Daerah Khusus Ibukota Jakarta',\n",
       "  'Jawa Barat',\n",
       "  'Jawa Tengah',\n",
       "  'Daerah Istimewa Yogyakarta',\n",
       "  'Jawa Timur',\n",
       "  'Banten',\n",
       "  'Bali',\n",
       "  'Nusa Tenggara Barat',\n",
       "  'Nusa Tenggara Timur',\n",
       "  'Kalimantan Barat',\n",
       "  'Kalimantan Tengah',\n",
       "  'Kalimantan Selatan',\n",
       "  'Kalimantan Timur',\n",
       "  'Kalimantan Utara',\n",
       "  'Sulawesi Utara',\n",
       "  'Sulawesi Tengah',\n",
       "  'Sulawesi Selatan',\n",
       "  'Sulawesi Tenggara',\n",
       "  'Gorontalo',\n",
       "  'Sulawesi Barat',\n",
       "  'Maluku',\n",
       "  'Maluku Utara',\n",
       "  'Papua Barat',\n",
       "  'Papua'],\n",
       " 'kab': {'Aceh': ['Kab. Simeulue',\n",
       "   'Kab. Aceh Singkil',\n",
       "   'Kab. Aceh Selatan',\n",
       "   'Kab. Aceh Tenggara',\n",
       "   'Kab. Aceh Timur',\n",
       "   'Kab. Aceh Tengah',\n",
       "   'Kab. Aceh Barat',\n",
       "   'Kab. Aceh Besar',\n",
       "   'Kab. Aceh Pidie',\n",
       "   'Kab. Bireun',\n",
       "   'Kab. Aceh Utara',\n",
       "   'Kab. Aceh Barat Daya',\n",
       "   'Kab. Gayo Lues',\n",
       "   'Kab. Aceh Tamiang',\n",
       "   'Kab. Aceh Jaya',\n",
       "   'Kab. Nagan Raya',\n",
       "   'Kab. Bener Meriah',\n",
       "   'Kab. Pidie Jaya',\n",
       "   'Kota Banda Aceh',\n",
       "   'Kota Sabang',\n",
       "   'Kota Lhokseumawe',\n",
       "   'Kota Langsa',\n",
       "   'Kota Subulussalam']}}"
      ]
     },
     "execution_count": 25,
     "metadata": {},
     "output_type": "execute_result"
    }
   ],
   "source": [
    "import dill\n",
    "\n",
    "def read_binary_file(path):\n",
    "    with open(path, 'rb') as f:\n",
    "        return dill.load(f)\n",
    "    \n",
    "a_dict = read_binary_file(path=\"../data/indicator_input_dict.bin\")\n",
    "\n",
    "a_dict"
   ]
  },
  {
   "cell_type": "code",
   "execution_count": 26,
   "metadata": {},
   "outputs": [
    {
     "data": {
      "text/html": [
       "<div>\n",
       "<style scoped>\n",
       "    .dataframe tbody tr th:only-of-type {\n",
       "        vertical-align: middle;\n",
       "    }\n",
       "\n",
       "    .dataframe tbody tr th {\n",
       "        vertical-align: top;\n",
       "    }\n",
       "\n",
       "    .dataframe thead th {\n",
       "        text-align: right;\n",
       "    }\n",
       "</style>\n",
       "<table border=\"1\" class=\"dataframe\">\n",
       "  <thead>\n",
       "    <tr style=\"text-align: right;\">\n",
       "      <th></th>\n",
       "      <th>Subsektor</th>\n",
       "      <th>Komoditi</th>\n",
       "      <th>Provinsi</th>\n",
       "      <th>Kabupaten</th>\n",
       "    </tr>\n",
       "  </thead>\n",
       "  <tbody>\n",
       "    <tr>\n",
       "      <th>0</th>\n",
       "      <td>Tanaman Pangan</td>\n",
       "      <td>0.0</td>\n",
       "      <td>0.0</td>\n",
       "      <td>0.0</td>\n",
       "    </tr>\n",
       "    <tr>\n",
       "      <th>1</th>\n",
       "      <td>Tanaman Pangan</td>\n",
       "      <td>1.0</td>\n",
       "      <td>0.0</td>\n",
       "      <td>0.0</td>\n",
       "    </tr>\n",
       "    <tr>\n",
       "      <th>2</th>\n",
       "      <td>Tanaman Pangan</td>\n",
       "      <td>0.0</td>\n",
       "      <td>1.0</td>\n",
       "      <td>0.0</td>\n",
       "    </tr>\n",
       "    <tr>\n",
       "      <th>3</th>\n",
       "      <td>Tanaman Pangan</td>\n",
       "      <td>0.0</td>\n",
       "      <td>0.0</td>\n",
       "      <td>1.0</td>\n",
       "    </tr>\n",
       "    <tr>\n",
       "      <th>4</th>\n",
       "      <td>Tanaman Pangan</td>\n",
       "      <td>0.0</td>\n",
       "      <td>0.0</td>\n",
       "      <td>0.0</td>\n",
       "    </tr>\n",
       "    <tr>\n",
       "      <th>...</th>\n",
       "      <td>...</td>\n",
       "      <td>...</td>\n",
       "      <td>...</td>\n",
       "      <td>...</td>\n",
       "    </tr>\n",
       "    <tr>\n",
       "      <th>157</th>\n",
       "      <td>Tanaman Pangan</td>\n",
       "      <td>0.0</td>\n",
       "      <td>0.0</td>\n",
       "      <td>0.0</td>\n",
       "    </tr>\n",
       "    <tr>\n",
       "      <th>158</th>\n",
       "      <td>Tanaman Pangan</td>\n",
       "      <td>0.0</td>\n",
       "      <td>0.0</td>\n",
       "      <td>0.0</td>\n",
       "    </tr>\n",
       "    <tr>\n",
       "      <th>159</th>\n",
       "      <td>Tanaman Pangan</td>\n",
       "      <td>0.0</td>\n",
       "      <td>0.0</td>\n",
       "      <td>0.0</td>\n",
       "    </tr>\n",
       "    <tr>\n",
       "      <th>160</th>\n",
       "      <td>Tanaman Pangan</td>\n",
       "      <td>0.0</td>\n",
       "      <td>0.0</td>\n",
       "      <td>0.0</td>\n",
       "    </tr>\n",
       "    <tr>\n",
       "      <th>161</th>\n",
       "      <td>Tanaman Pangan</td>\n",
       "      <td>0.0</td>\n",
       "      <td>0.0</td>\n",
       "      <td>0.0</td>\n",
       "    </tr>\n",
       "  </tbody>\n",
       "</table>\n",
       "<p>162 rows × 4 columns</p>\n",
       "</div>"
      ],
      "text/plain": [
       "          Subsektor  Komoditi  Provinsi  Kabupaten\n",
       "0    Tanaman Pangan       0.0       0.0        0.0\n",
       "1    Tanaman Pangan       1.0       0.0        0.0\n",
       "2    Tanaman Pangan       0.0       1.0        0.0\n",
       "3    Tanaman Pangan       0.0       0.0        1.0\n",
       "4    Tanaman Pangan       0.0       0.0        0.0\n",
       "..              ...       ...       ...        ...\n",
       "157  Tanaman Pangan       0.0       0.0        0.0\n",
       "158  Tanaman Pangan       0.0       0.0        0.0\n",
       "159  Tanaman Pangan       0.0       0.0        0.0\n",
       "160  Tanaman Pangan       0.0       0.0        0.0\n",
       "161  Tanaman Pangan       0.0       0.0        0.0\n",
       "\n",
       "[162 rows x 4 columns]"
      ]
     },
     "execution_count": 26,
     "metadata": {},
     "output_type": "execute_result"
    }
   ],
   "source": [
    "df_info"
   ]
  }
 ],
 "metadata": {
  "kernelspec": {
   "display_name": ".venv",
   "language": "python",
   "name": "python3"
  },
  "language_info": {
   "codemirror_mode": {
    "name": "ipython",
    "version": 3
   },
   "file_extension": ".py",
   "mimetype": "text/x-python",
   "name": "python",
   "nbconvert_exporter": "python",
   "pygments_lexer": "ipython3",
   "version": "3.8.10"
  },
  "orig_nbformat": 4
 },
 "nbformat": 4,
 "nbformat_minor": 2
}
